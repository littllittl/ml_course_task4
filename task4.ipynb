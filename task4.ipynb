{
 "cells": [
  {
   "cell_type": "code",
   "execution_count": 146,
   "metadata": {
    "scrolled": false
   },
   "outputs": [
    {
     "name": "stdout",
     "output_type": "stream",
     "text": [
      "This is most popular artist : Miles Davis - 11\n",
      "\n",
      "\n",
      "This is TOP10 of the most popular artists:\n",
      "artist_name\n",
      "Radiohead                 188430\n",
      "The Beatles               182181\n",
      "Pink Floyd                155550\n",
      "David Bowie               114193\n",
      "Led Zeppelin              104991\n",
      "Bob Dylan                  98562\n",
      "Black Sabbath              86508\n",
      "The Velvet Underground     67800\n",
      "Metallica                  67210\n",
      "Miles Davis                65662\n",
      "Name: rating, dtype: int64\n",
      "\n",
      "\n",
      "This is TOP10 of the most rate artists:\n",
      "artist_name\n",
      "Mingus                         4.35\n",
      "The Beach Boys                 4.21\n",
      "Nas                            4.18\n",
      "Television                     4.18\n",
      "Wu-Tang Clan                   4.18\n",
      "Madvillain                     4.13\n",
      "Godspeed You Black Emperor!    4.13\n",
      "Genius/GZA                     4.12\n",
      "The Jimi Hendrix Experience    4.12\n",
      "Joy Division                   4.12\n",
      "Name: RYM_rating, dtype: float64\n"
     ]
    }
   ],
   "source": [
    "import numpy\n",
    "import requests\n",
    "from bs4 import BeautifulSoup\n",
    "from time import sleep\n",
    "from random import choice\n",
    "import pandas as pd\n",
    "\n",
    "\n",
    "def get_page(page, user_agent, proxy):\n",
    "    url = \"https://rateyourmusic.com/customchart?page={}\".format(page)\n",
    "    html_page = requests.get(url, headers=user_agent, proxies=proxy)\n",
    "    file = open(\"./Docs/{}.html\".format(page), \"w\")\n",
    "    file.write(str(html_page.text))\n",
    "    file.close()\n",
    "    return 0\n",
    "\n",
    "\n",
    "def downloader():\n",
    "    file_of_users_agents = open(\"user_agents.txt\", \"r\")\n",
    "    users_agents = file_of_users_agents.read().split('\\n')\n",
    "    file_of_proxies = open(\"proxies.txt\", \"r\")\n",
    "    proxies = file_of_proxies.read().split('\\n')\n",
    "    file_of_proxies.close()\n",
    "    file_of_users_agents.close()\n",
    "    for j in range(1,5):\n",
    "        for i in range(j,26,4):\n",
    "            proxy = {'http': 'http://' + choice(proxies)}\n",
    "            user_agent = {'User-Agent': choice(users_agents)}\n",
    "            get_page(i, user_agent, proxy)\n",
    "            sleep(90)\n",
    "\n",
    "def parse():\n",
    "    results = []\n",
    "    for i in range(1, 26):\n",
    "        text = open(\"./Docs/{}.html\".format(i), \"r\")\n",
    "        soup = BeautifulSoup(text, \"lxml\")\n",
    "        for elem in soup.find_all('tr'):\n",
    "            try:\n",
    "                artist_and_album = elem.find('div', class_='chart_main')\n",
    "                artist_name = artist_and_album.find('span', class_='chart_detail_line1').find('a').text\n",
    "                album_name = artist_and_album.find('div', class_='chart_detail_line2').find('a').text\n",
    "                ratings = elem.find('div', class_='chart_stats')\n",
    "                RYM_rating= float(ratings.find('b').text)\n",
    "                rating = int(ratings.find('b').find_next_sibling('b').text.replace(',', ''))\n",
    "                results.append({\n",
    "                'artist_name': artist_name,\n",
    "                'album_name': album_name,\n",
    "                'RYM_rating': RYM_rating,\n",
    "                'rating': rating,\n",
    "            })\n",
    "            except:\n",
    "                continue\n",
    "    df = pd.DataFrame(results)\n",
    "    df.to_csv('results.csv')\n",
    "    return df\n",
    "\n",
    "\n",
    "def analysis(df):\n",
    "    print(\"This is most popular artist : {} - {}\".format(df['artist_name'].value_counts().index[0], df['artist_name'].value_counts().values[0]))\n",
    "    top10_artists = df\n",
    "    top10_artists = top10_artists.groupby('artist_name').aggregate(sum)\n",
    "    top10_artists = top10_artists.rating.sort_values(ascending=False)[:10]\n",
    "    print(\"\\n\")\n",
    "    print(\"This is TOP10 of the most popular artists:\\n{}\".format(top10_artists))\n",
    "    top10_rate_artist = df.groupby('artist_name').aggregate(sum)\n",
    "    all_=df.groupby('artist_name').count()\n",
    "    top10_rate_artist['count']=all_['RYM_rating']\n",
    "    top10_rate_artist['RYM_rating']=round(top10_rate_artist['RYM_rating']/top10_rate_artist['count'],2)\n",
    "    top10_rate_artist = top10_rate_artist.RYM_rating.sort_values(ascending=False)[:10]\n",
    "    print(\"\\n\")\n",
    "    print(\"This is TOP10 of the most rate artists:\\n{}\".format(top10_rate_artist))\n",
    "\n",
    "\n",
    "#downloader()\n",
    "analysis(parse())\n"
   ]
  },
  {
   "cell_type": "code",
   "execution_count": null,
   "metadata": {
    "collapsed": true
   },
   "outputs": [],
   "source": []
  },
  {
   "cell_type": "code",
   "execution_count": null,
   "metadata": {
    "collapsed": true
   },
   "outputs": [],
   "source": []
  },
  {
   "cell_type": "code",
   "execution_count": null,
   "metadata": {
    "collapsed": true
   },
   "outputs": [],
   "source": []
  }
 ],
 "metadata": {
  "kernelspec": {
   "display_name": "Python 3",
   "language": "python",
   "name": "python3"
  },
  "language_info": {
   "codemirror_mode": {
    "name": "ipython",
    "version": 3
   },
   "file_extension": ".py",
   "mimetype": "text/x-python",
   "name": "python",
   "nbconvert_exporter": "python",
   "pygments_lexer": "ipython3",
   "version": "3.6.3"
  }
 },
 "nbformat": 4,
 "nbformat_minor": 2
}
